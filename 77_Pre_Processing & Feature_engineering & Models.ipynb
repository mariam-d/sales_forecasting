{
 "cells": [
  {
   "cell_type": "code",
   "execution_count": 1,
   "metadata": {},
   "outputs": [],
   "source": [
    "# !pip install tqdm"
   ]
  },
  {
   "cell_type": "code",
   "execution_count": 2,
   "metadata": {},
   "outputs": [
    {
     "name": "stdout",
     "output_type": "stream",
     "text": [
      "imported library\n"
     ]
    }
   ],
   "source": [
    "import numpy as np\n",
    "import pandas as pd\n",
    "import matplotlib.pyplot as plt\n",
    "import seaborn as sns\n",
    "import os\n",
    "import datetime as dt\n",
    "\n",
    "# from sort_dataframeby_monthorweek import *\n",
    "# from tqdm.notebook import tqdm\n",
    "# import gc\n",
    "\n",
    "print('imported library')"
   ]
  },
  {
   "cell_type": "code",
   "execution_count": 3,
   "metadata": {},
   "outputs": [],
   "source": [
    "from sklearn.preprocessing import LabelEncoder\n",
    "\n",
    "\n",
    "from sklearn.model_selection import train_test_split\n",
    "\n",
    "from sklearn.linear_model import LinearRegression,SGDRegressor,ElasticNet,Ridge\n",
    "from sklearn.svm import SVC\n",
    "from sklearn.ensemble import RandomForestRegressor\n",
    "\n",
    "from sklearn import linear_model\n",
    "\n",
    "# from sklearn.pipeline import make_pipeline\n",
    "# from sklearn.preprocessing import StandardScaler\n",
    "\n",
    "from sklearn.metrics import mean_squared_error,mean_absolute_error , r2_score\n",
    "\n",
    "# from sklearn  import metrics\n"
   ]
  },
  {
   "cell_type": "markdown",
   "metadata": {},
   "source": [
    "# Reading DataSet"
   ]
  },
  {
   "cell_type": "code",
   "execution_count": 4,
   "metadata": {},
   "outputs": [
    {
     "name": "stderr",
     "output_type": "stream",
     "text": [
      "C:\\Users\\SG\\Anaconda3\\lib\\site-packages\\numpy\\lib\\arraysetops.py:569: FutureWarning: elementwise comparison failed; returning scalar instead, but in the future will perform elementwise comparison\n",
      "  mask |= (ar1 == a)\n"
     ]
    },
    {
     "name": "stdout",
     "output_type": "stream",
     "text": [
      "all of dataset loaded\n"
     ]
    }
   ],
   "source": [
    "\n",
    "url = '..\\favorita-grocery-sales-forecasting'\n",
    "\n",
    "train = pd.read_csv(os.path.join(url, \"train.csv\") , nrows=1000000 , parse_dates = ['date'] , index_col = 'id' )\n",
    "# train = pd.read_csv(os.path.join(url, \"train.csv\") ,skiprows=120000000 , nrows=1000000 , parse_dates = ['date'] , index_col = 'id')\n",
    "\n",
    "test = pd.read_csv(os.path.join(url,\"test.csv\")  , parse_dates = ['date'] , index_col = 'id')\n",
    "\n",
    "# sample_sub = pd.read_csv(os.path.join(url,\"sample_submission.csv\"))\n",
    "\n",
    "stores = pd.read_csv(os.path.join(url,\"stores.csv\"))\n",
    "\n",
    "items = pd.read_csv(os.path.join(url,\"items.csv\"))\n",
    "\n",
    "transactions = pd.read_csv(os.path.join(url,\"transactions.csv\") , parse_dates = ['date'])\n",
    "\n",
    "oil = pd.read_csv(os.path.join(url,\"oil.csv\") , parse_dates = ['date'])\n",
    "\n",
    "holiday = pd.read_csv(os.path.join(url,\"holidays_events.csv\") , parse_dates = ['date'])\n",
    "\n",
    "print('all of dataset loaded')\n"
   ]
  },
  {
   "cell_type": "markdown",
   "metadata": {},
   "source": [
    "# Pre_processing :"
   ]
  },
  {
   "cell_type": "code",
   "execution_count": 5,
   "metadata": {},
   "outputs": [],
   "source": [
    "def catgirical_numeric (df) :\n",
    "    \n",
    "    # split name of categorical columns\n",
    "    cols = df.columns\n",
    "    num_cols = df._get_numeric_data().columns\n",
    "    cat_cols = list(set(cols) - set(num_cols))\n",
    "    print(cat_cols)\n",
    "    \n",
    "    # Transform categorical to numerical\n",
    "    for col in cat_cols :\n",
    "        encoder = LabelEncoder()\n",
    "        df[col] = encoder.fit_transform(df[col].values)\n",
    "          \n",
    "    return df     "
   ]
  },
  {
   "cell_type": "code",
   "execution_count": 6,
   "metadata": {},
   "outputs": [
    {
     "name": "stdout",
     "output_type": "stream",
     "text": [
      "['family']\n",
      "['city', 'type', 'state']\n",
      "['locale_name', 'description', 'locale', 'type']\n"
     ]
    }
   ],
   "source": [
    "# items 1 , stores  3  , holiday 4  ,\n",
    "\n",
    "catgirical_numeric(items)\n",
    "catgirical_numeric(stores)\n",
    "\n",
    "copy_holiy = holiday.copy()\n",
    "holiday = catgirical_numeric(holiday.drop('date' , axis = 1))\n",
    "#  چون تاریخ به عنوان غیر عدد در نظر میگیرد اینجا حذفش میکنم\n",
    "holiday['date'] = copy_holiy['date']"
   ]
  },
  {
   "cell_type": "code",
   "execution_count": 7,
   "metadata": {},
   "outputs": [],
   "source": [
    "def distributed(df):\n",
    "    \n",
    "    transformed=[]\n",
    "\n",
    "    # for value in tqdm(train.unit_sales):\n",
    "    for value in df.unit_sales:\n",
    "        if float(value) > 0:\n",
    "            value=np.log1p(float(value))\n",
    "        else:\n",
    "            value=0\n",
    "        transformed.append(value)\n",
    "\n",
    "    df['unit_sales'] = transformed  \n",
    "    del transformed\n",
    "\n",
    "# ----------------------------------------------------------------------\n",
    "\n",
    "def pre_Train(df) :\n",
    "    \n",
    "    df['onpromotion'].fillna( 0 , inplace = True )  #.astype(int)\n",
    "    df['onpromotion'] = df['onpromotion'].astype(int)\n",
    "\n",
    "# ----------------------------------------------------------------------\n",
    "    \n",
    "pre_Train(train)\n",
    "distributed(train)"
   ]
  },
  {
   "cell_type": "code",
   "execution_count": null,
   "metadata": {},
   "outputs": [],
   "source": []
  },
  {
   "cell_type": "code",
   "execution_count": 8,
   "metadata": {},
   "outputs": [
    {
     "name": "stdout",
     "output_type": "stream",
     "text": [
      "df shape :  (1000000, 19)\n",
      "columns =>  Index(['date', 'store_nbr', 'item_nbr', 'unit_sales', 'onpromotion', 'family',\n",
      "       'class', 'perishable', 'city', 'state', 'type_x', 'cluster',\n",
      "       'dcoilwtico', 'type_y', 'locale', 'locale_name', 'description',\n",
      "       'transferred', 'transactions'],\n",
      "      dtype='object')\n",
      "types   =>  date            datetime64[ns]\n",
      "store_nbr                int64\n",
      "item_nbr                 int64\n",
      "unit_sales             float64\n",
      "onpromotion              int32\n",
      "family                   int32\n",
      "class                    int64\n",
      "perishable               int64\n",
      "city                     int32\n",
      "state                    int32\n",
      "type_x                   int32\n",
      "cluster                  int64\n",
      "dcoilwtico             float64\n",
      "type_y                 float64\n",
      "locale                 float64\n",
      "locale_name            float64\n",
      "description            float64\n",
      "transferred             object\n",
      "transactions             int64\n",
      "dtype: object\n"
     ]
    },
    {
     "data": {
      "text/html": [
       "<div>\n",
       "<style scoped>\n",
       "    .dataframe tbody tr th:only-of-type {\n",
       "        vertical-align: middle;\n",
       "    }\n",
       "\n",
       "    .dataframe tbody tr th {\n",
       "        vertical-align: top;\n",
       "    }\n",
       "\n",
       "    .dataframe thead th {\n",
       "        text-align: right;\n",
       "    }\n",
       "</style>\n",
       "<table border=\"1\" class=\"dataframe\">\n",
       "  <thead>\n",
       "    <tr style=\"text-align: right;\">\n",
       "      <th></th>\n",
       "      <th>date</th>\n",
       "      <th>store_nbr</th>\n",
       "      <th>item_nbr</th>\n",
       "      <th>unit_sales</th>\n",
       "      <th>onpromotion</th>\n",
       "      <th>family</th>\n",
       "      <th>class</th>\n",
       "      <th>perishable</th>\n",
       "      <th>city</th>\n",
       "      <th>state</th>\n",
       "      <th>type_x</th>\n",
       "      <th>cluster</th>\n",
       "      <th>dcoilwtico</th>\n",
       "      <th>type_y</th>\n",
       "      <th>locale</th>\n",
       "      <th>locale_name</th>\n",
       "      <th>description</th>\n",
       "      <th>transferred</th>\n",
       "      <th>transactions</th>\n",
       "    </tr>\n",
       "  </thead>\n",
       "  <tbody>\n",
       "    <tr>\n",
       "      <th>0</th>\n",
       "      <td>2013-01-01</td>\n",
       "      <td>25</td>\n",
       "      <td>103665</td>\n",
       "      <td>2.079442</td>\n",
       "      <td>0</td>\n",
       "      <td>5</td>\n",
       "      <td>2712</td>\n",
       "      <td>1</td>\n",
       "      <td>20</td>\n",
       "      <td>13</td>\n",
       "      <td>3</td>\n",
       "      <td>1</td>\n",
       "      <td>NaN</td>\n",
       "      <td>3.0</td>\n",
       "      <td>1.0</td>\n",
       "      <td>4.0</td>\n",
       "      <td>51.0</td>\n",
       "      <td>False</td>\n",
       "      <td>770</td>\n",
       "    </tr>\n",
       "    <tr>\n",
       "      <th>1</th>\n",
       "      <td>2013-01-01</td>\n",
       "      <td>25</td>\n",
       "      <td>105574</td>\n",
       "      <td>0.693147</td>\n",
       "      <td>0</td>\n",
       "      <td>12</td>\n",
       "      <td>1045</td>\n",
       "      <td>0</td>\n",
       "      <td>20</td>\n",
       "      <td>13</td>\n",
       "      <td>3</td>\n",
       "      <td>1</td>\n",
       "      <td>NaN</td>\n",
       "      <td>3.0</td>\n",
       "      <td>1.0</td>\n",
       "      <td>4.0</td>\n",
       "      <td>51.0</td>\n",
       "      <td>False</td>\n",
       "      <td>770</td>\n",
       "    </tr>\n",
       "    <tr>\n",
       "      <th>2</th>\n",
       "      <td>2013-01-01</td>\n",
       "      <td>25</td>\n",
       "      <td>105575</td>\n",
       "      <td>1.098612</td>\n",
       "      <td>0</td>\n",
       "      <td>12</td>\n",
       "      <td>1045</td>\n",
       "      <td>0</td>\n",
       "      <td>20</td>\n",
       "      <td>13</td>\n",
       "      <td>3</td>\n",
       "      <td>1</td>\n",
       "      <td>NaN</td>\n",
       "      <td>3.0</td>\n",
       "      <td>1.0</td>\n",
       "      <td>4.0</td>\n",
       "      <td>51.0</td>\n",
       "      <td>False</td>\n",
       "      <td>770</td>\n",
       "    </tr>\n",
       "    <tr>\n",
       "      <th>3</th>\n",
       "      <td>2013-01-01</td>\n",
       "      <td>25</td>\n",
       "      <td>108079</td>\n",
       "      <td>0.693147</td>\n",
       "      <td>0</td>\n",
       "      <td>12</td>\n",
       "      <td>1030</td>\n",
       "      <td>0</td>\n",
       "      <td>20</td>\n",
       "      <td>13</td>\n",
       "      <td>3</td>\n",
       "      <td>1</td>\n",
       "      <td>NaN</td>\n",
       "      <td>3.0</td>\n",
       "      <td>1.0</td>\n",
       "      <td>4.0</td>\n",
       "      <td>51.0</td>\n",
       "      <td>False</td>\n",
       "      <td>770</td>\n",
       "    </tr>\n",
       "    <tr>\n",
       "      <th>4</th>\n",
       "      <td>2013-01-01</td>\n",
       "      <td>25</td>\n",
       "      <td>108701</td>\n",
       "      <td>0.693147</td>\n",
       "      <td>0</td>\n",
       "      <td>9</td>\n",
       "      <td>2644</td>\n",
       "      <td>1</td>\n",
       "      <td>20</td>\n",
       "      <td>13</td>\n",
       "      <td>3</td>\n",
       "      <td>1</td>\n",
       "      <td>NaN</td>\n",
       "      <td>3.0</td>\n",
       "      <td>1.0</td>\n",
       "      <td>4.0</td>\n",
       "      <td>51.0</td>\n",
       "      <td>False</td>\n",
       "      <td>770</td>\n",
       "    </tr>\n",
       "  </tbody>\n",
       "</table>\n",
       "</div>"
      ],
      "text/plain": [
       "        date  store_nbr  item_nbr  unit_sales  onpromotion  family  class  \\\n",
       "0 2013-01-01         25    103665    2.079442            0       5   2712   \n",
       "1 2013-01-01         25    105574    0.693147            0      12   1045   \n",
       "2 2013-01-01         25    105575    1.098612            0      12   1045   \n",
       "3 2013-01-01         25    108079    0.693147            0      12   1030   \n",
       "4 2013-01-01         25    108701    0.693147            0       9   2644   \n",
       "\n",
       "   perishable  city  state  type_x  cluster  dcoilwtico  type_y  locale  \\\n",
       "0           1    20     13       3        1         NaN     3.0     1.0   \n",
       "1           0    20     13       3        1         NaN     3.0     1.0   \n",
       "2           0    20     13       3        1         NaN     3.0     1.0   \n",
       "3           0    20     13       3        1         NaN     3.0     1.0   \n",
       "4           1    20     13       3        1         NaN     3.0     1.0   \n",
       "\n",
       "   locale_name  description transferred  transactions  \n",
       "0          4.0         51.0       False           770  \n",
       "1          4.0         51.0       False           770  \n",
       "2          4.0         51.0       False           770  \n",
       "3          4.0         51.0       False           770  \n",
       "4          4.0         51.0       False           770  "
      ]
     },
     "execution_count": 8,
     "metadata": {},
     "output_type": "execute_result"
    }
   ],
   "source": [
    "def merge_data():\n",
    "       \n",
    "    train_items = train.merge(items , left_on='item_nbr' , right_on ='item_nbr' )\n",
    "    train_items_stores = train_items.merge(stores , left_on='store_nbr' , right_on='store_nbr')\n",
    "    train_items_stores_oil = train_items_stores.merge(oil , how ='left' ,  left_on='date' , right_on='date')\n",
    "    train_items_stores_oil_holiday = train_items_stores_oil.merge(holiday , how ='left' , left_on='date' , right_on='date')\n",
    "    train_items_stores_oil_holiday_transaction = train_items_stores_oil_holiday .merge(transactions , left_on=['date', 'store_nbr'] , right_on=['date', 'store_nbr'])\n",
    "    \n",
    "    return train_items_stores_oil_holiday_transaction\n",
    "\n",
    "\n",
    "df = merge_data()\n",
    "\n",
    "print('df shape : ' , df.shape)\n",
    "print ( 'columns => ' , df.columns )\n",
    "print ( 'types   => ' , df.dtypes )\n",
    "\n",
    "df.head()"
   ]
  },
  {
   "cell_type": "code",
   "execution_count": 9,
   "metadata": {},
   "outputs": [
    {
     "data": {
      "text/plain": [
       "(1000000, 19)"
      ]
     },
     "execution_count": 9,
     "metadata": {},
     "output_type": "execute_result"
    }
   ],
   "source": [
    "df.shape"
   ]
  },
  {
   "cell_type": "code",
   "execution_count": 10,
   "metadata": {},
   "outputs": [
    {
     "data": {
      "text/html": [
       "<div>\n",
       "<style scoped>\n",
       "    .dataframe tbody tr th:only-of-type {\n",
       "        vertical-align: middle;\n",
       "    }\n",
       "\n",
       "    .dataframe tbody tr th {\n",
       "        vertical-align: top;\n",
       "    }\n",
       "\n",
       "    .dataframe thead th {\n",
       "        text-align: right;\n",
       "    }\n",
       "</style>\n",
       "<table border=\"1\" class=\"dataframe\">\n",
       "  <thead>\n",
       "    <tr style=\"text-align: right;\">\n",
       "      <th></th>\n",
       "      <th>date</th>\n",
       "      <th>store_nbr</th>\n",
       "      <th>item_nbr</th>\n",
       "      <th>unit_sales</th>\n",
       "      <th>onpromotion</th>\n",
       "      <th>family</th>\n",
       "      <th>class</th>\n",
       "      <th>perishable</th>\n",
       "      <th>city</th>\n",
       "      <th>state</th>\n",
       "      <th>type_x</th>\n",
       "      <th>cluster</th>\n",
       "      <th>dcoilwtico</th>\n",
       "      <th>type_y</th>\n",
       "      <th>locale</th>\n",
       "      <th>locale_name</th>\n",
       "      <th>description</th>\n",
       "      <th>transferred</th>\n",
       "      <th>transactions</th>\n",
       "    </tr>\n",
       "  </thead>\n",
       "  <tbody>\n",
       "    <tr>\n",
       "      <th>0</th>\n",
       "      <td>734869</td>\n",
       "      <td>25</td>\n",
       "      <td>103665</td>\n",
       "      <td>2.079442</td>\n",
       "      <td>0</td>\n",
       "      <td>5</td>\n",
       "      <td>2712</td>\n",
       "      <td>1</td>\n",
       "      <td>20</td>\n",
       "      <td>13</td>\n",
       "      <td>3</td>\n",
       "      <td>1</td>\n",
       "      <td>0</td>\n",
       "      <td>3.0</td>\n",
       "      <td>1.0</td>\n",
       "      <td>4.0</td>\n",
       "      <td>51.0</td>\n",
       "      <td>0</td>\n",
       "      <td>770</td>\n",
       "    </tr>\n",
       "    <tr>\n",
       "      <th>1</th>\n",
       "      <td>734869</td>\n",
       "      <td>25</td>\n",
       "      <td>105574</td>\n",
       "      <td>0.693147</td>\n",
       "      <td>0</td>\n",
       "      <td>12</td>\n",
       "      <td>1045</td>\n",
       "      <td>0</td>\n",
       "      <td>20</td>\n",
       "      <td>13</td>\n",
       "      <td>3</td>\n",
       "      <td>1</td>\n",
       "      <td>0</td>\n",
       "      <td>3.0</td>\n",
       "      <td>1.0</td>\n",
       "      <td>4.0</td>\n",
       "      <td>51.0</td>\n",
       "      <td>0</td>\n",
       "      <td>770</td>\n",
       "    </tr>\n",
       "    <tr>\n",
       "      <th>2</th>\n",
       "      <td>734869</td>\n",
       "      <td>25</td>\n",
       "      <td>105575</td>\n",
       "      <td>1.098612</td>\n",
       "      <td>0</td>\n",
       "      <td>12</td>\n",
       "      <td>1045</td>\n",
       "      <td>0</td>\n",
       "      <td>20</td>\n",
       "      <td>13</td>\n",
       "      <td>3</td>\n",
       "      <td>1</td>\n",
       "      <td>0</td>\n",
       "      <td>3.0</td>\n",
       "      <td>1.0</td>\n",
       "      <td>4.0</td>\n",
       "      <td>51.0</td>\n",
       "      <td>0</td>\n",
       "      <td>770</td>\n",
       "    </tr>\n",
       "    <tr>\n",
       "      <th>3</th>\n",
       "      <td>734869</td>\n",
       "      <td>25</td>\n",
       "      <td>108079</td>\n",
       "      <td>0.693147</td>\n",
       "      <td>0</td>\n",
       "      <td>12</td>\n",
       "      <td>1030</td>\n",
       "      <td>0</td>\n",
       "      <td>20</td>\n",
       "      <td>13</td>\n",
       "      <td>3</td>\n",
       "      <td>1</td>\n",
       "      <td>0</td>\n",
       "      <td>3.0</td>\n",
       "      <td>1.0</td>\n",
       "      <td>4.0</td>\n",
       "      <td>51.0</td>\n",
       "      <td>0</td>\n",
       "      <td>770</td>\n",
       "    </tr>\n",
       "    <tr>\n",
       "      <th>4</th>\n",
       "      <td>734869</td>\n",
       "      <td>25</td>\n",
       "      <td>108701</td>\n",
       "      <td>0.693147</td>\n",
       "      <td>0</td>\n",
       "      <td>9</td>\n",
       "      <td>2644</td>\n",
       "      <td>1</td>\n",
       "      <td>20</td>\n",
       "      <td>13</td>\n",
       "      <td>3</td>\n",
       "      <td>1</td>\n",
       "      <td>0</td>\n",
       "      <td>3.0</td>\n",
       "      <td>1.0</td>\n",
       "      <td>4.0</td>\n",
       "      <td>51.0</td>\n",
       "      <td>0</td>\n",
       "      <td>770</td>\n",
       "    </tr>\n",
       "  </tbody>\n",
       "</table>\n",
       "</div>"
      ],
      "text/plain": [
       "     date  store_nbr  item_nbr  unit_sales  onpromotion  family  class  \\\n",
       "0  734869         25    103665    2.079442            0       5   2712   \n",
       "1  734869         25    105574    0.693147            0      12   1045   \n",
       "2  734869         25    105575    1.098612            0      12   1045   \n",
       "3  734869         25    108079    0.693147            0      12   1030   \n",
       "4  734869         25    108701    0.693147            0       9   2644   \n",
       "\n",
       "   perishable  city  state  type_x  cluster  dcoilwtico  type_y  locale  \\\n",
       "0           1    20     13       3        1           0     3.0     1.0   \n",
       "1           0    20     13       3        1           0     3.0     1.0   \n",
       "2           0    20     13       3        1           0     3.0     1.0   \n",
       "3           0    20     13       3        1           0     3.0     1.0   \n",
       "4           1    20     13       3        1           0     3.0     1.0   \n",
       "\n",
       "   locale_name  description  transferred  transactions  \n",
       "0          4.0         51.0            0           770  \n",
       "1          4.0         51.0            0           770  \n",
       "2          4.0         51.0            0           770  \n",
       "3          4.0         51.0            0           770  \n",
       "4          4.0         51.0            0           770  "
      ]
     },
     "execution_count": 10,
     "metadata": {},
     "output_type": "execute_result"
    }
   ],
   "source": [
    "def prepare_data (data_df) :\n",
    "        \n",
    "#       data_df.isnull().sum()\n",
    "        data_df.fillna( 0 , axis=1 , inplace = True )\n",
    "        \n",
    "#       data_df['dcoilwtico'].fillna( 0 , inplace = True )\n",
    "        data_df['dcoilwtico'] = data_df['dcoilwtico'].astype(int)\n",
    "        \n",
    "     # bool to int\n",
    "        data_df['transferred'] = data_df['transferred'].astype(int)\n",
    "                \n",
    "        # handle date\n",
    "        data_df['date'] = pd.to_datetime(data_df['date'])\n",
    "        data_df['date'] = data_df['date'].map(dt.datetime.toordinal)\n",
    "        \n",
    "        return data_df\n",
    "\n",
    "        \n",
    "data = prepare_data(df)\n",
    "data.head()"
   ]
  },
  {
   "cell_type": "code",
   "execution_count": 11,
   "metadata": {},
   "outputs": [
    {
     "data": {
      "text/plain": [
       "(1000000, 19)"
      ]
     },
     "execution_count": 11,
     "metadata": {},
     "output_type": "execute_result"
    }
   ],
   "source": [
    "data.shape"
   ]
  },
  {
   "cell_type": "markdown",
   "metadata": {},
   "source": [
    "# split data according to our feature :"
   ]
  },
  {
   "cell_type": "code",
   "execution_count": 12,
   "metadata": {},
   "outputs": [],
   "source": [
    "# X = data.drop(['unit_sales', 'transactions'], axis=1)\n",
    "# Y = data[['unit_sales', 'transactions']]\n",
    "\n",
    "X = data.drop('unit_sales', axis=1)\n",
    "Y = data['unit_sales']"
   ]
  },
  {
   "cell_type": "code",
   "execution_count": 13,
   "metadata": {},
   "outputs": [
    {
     "data": {
      "text/plain": [
       "(1000000,)"
      ]
     },
     "execution_count": 13,
     "metadata": {},
     "output_type": "execute_result"
    }
   ],
   "source": [
    "X.shape   # (578, 18)      (5000000, 18)\n",
    "Y.shape  # (578,)        (5000000,)"
   ]
  },
  {
   "cell_type": "markdown",
   "metadata": {},
   "source": [
    "# Generate test and training data :"
   ]
  },
  {
   "cell_type": "code",
   "execution_count": 14,
   "metadata": {},
   "outputs": [],
   "source": [
    "x_train, x_test, y_train, y_test = train_test_split(X, Y, test_size=0.3, random_state=0)"
   ]
  },
  {
   "cell_type": "code",
   "execution_count": 15,
   "metadata": {},
   "outputs": [
    {
     "data": {
      "text/plain": [
       "(700000, 18)"
      ]
     },
     "execution_count": 15,
     "metadata": {},
     "output_type": "execute_result"
    }
   ],
   "source": [
    "x_train.shape  # (404, 18)"
   ]
  },
  {
   "cell_type": "code",
   "execution_count": 16,
   "metadata": {},
   "outputs": [
    {
     "data": {
      "text/plain": [
       "(700000,)"
      ]
     },
     "execution_count": 16,
     "metadata": {},
     "output_type": "execute_result"
    }
   ],
   "source": [
    "y_train.shape  # (404,)"
   ]
  },
  {
   "cell_type": "code",
   "execution_count": 17,
   "metadata": {},
   "outputs": [
    {
     "data": {
      "text/plain": [
       "(300000, 18)"
      ]
     },
     "execution_count": 17,
     "metadata": {},
     "output_type": "execute_result"
    }
   ],
   "source": [
    "x_test.shape  # (174, 18)"
   ]
  },
  {
   "cell_type": "code",
   "execution_count": 18,
   "metadata": {},
   "outputs": [
    {
     "data": {
      "text/plain": [
       "(300000,)"
      ]
     },
     "execution_count": 18,
     "metadata": {},
     "output_type": "execute_result"
    }
   ],
   "source": [
    "y_test.shape  # (174,)"
   ]
  },
  {
   "cell_type": "markdown",
   "metadata": {},
   "source": [
    "# Modelling & testing :"
   ]
  },
  {
   "cell_type": "code",
   "execution_count": 19,
   "metadata": {},
   "outputs": [],
   "source": [
    "def checkModelPerformane(model):\n",
    "    \n",
    "    m = model.fit(x_train, y_train)\n",
    "    pred = model.predict(x_test.values)\n",
    "    \n",
    "    print(\"mean_squared_error  =>  \",  np.sqrt(mean_squared_error(y_test.values, pred))) \n",
    "    print(\"mean_absolute_error =>  \",  np.sqrt(mean_absolute_error(y_test.values, pred)))\n",
    "    \n",
    "    print(\"r2_score =>  \",  r2_score(y_test, pred) )\n",
    "#   print('score    =>  ',  m.score(x_test,y_test) ) \n",
    "    \n",
    "    return m\n",
    "\n",
    "\n",
    "# a = y_test.to_frame()\n",
    "# a['pred'] = pred\n",
    "# a"
   ]
  },
  {
   "cell_type": "markdown",
   "metadata": {},
   "source": [
    "# Linear regression :"
   ]
  },
  {
   "cell_type": "code",
   "execution_count": 20,
   "metadata": {},
   "outputs": [
    {
     "name": "stdout",
     "output_type": "stream",
     "text": [
      "LinearRegression\n",
      "mean_squared_error  =>   0.8223129742781861\n",
      "mean_absolute_error =>   0.8115437206686469\n",
      "r2_score =>   0.11530526158265975\n"
     ]
    },
    {
     "data": {
      "text/plain": [
       "LinearRegression(copy_X=True, fit_intercept=True, n_jobs=None, normalize=False)"
      ]
     },
     "execution_count": 20,
     "metadata": {},
     "output_type": "execute_result"
    }
   ],
   "source": [
    "print(\"LinearRegression\")\n",
    "checkModelPerformane(LinearRegression())"
   ]
  },
  {
   "cell_type": "markdown",
   "metadata": {},
   "source": [
    "# Lasso regression :"
   ]
  },
  {
   "cell_type": "code",
   "execution_count": 21,
   "metadata": {},
   "outputs": [
    {
     "name": "stdout",
     "output_type": "stream",
     "text": [
      "lasso regression \n",
      "mean_squared_error  =>   0.8253777762885367\n",
      "mean_absolute_error =>   0.8131648299907763\n",
      "r2_score =>   0.10869836837602309\n"
     ]
    },
    {
     "data": {
      "text/plain": [
       "Lasso(alpha=0.1, copy_X=True, fit_intercept=True, max_iter=1000,\n",
       "      normalize=False, positive=False, precompute=False, random_state=None,\n",
       "      selection='cyclic', tol=0.0001, warm_start=False)"
      ]
     },
     "execution_count": 21,
     "metadata": {},
     "output_type": "execute_result"
    }
   ],
   "source": [
    "print(\"lasso regression \")\n",
    "checkModelPerformane(linear_model.Lasso(alpha=0.1))"
   ]
  },
  {
   "cell_type": "markdown",
   "metadata": {},
   "source": [
    "# ElasticNet regression :"
   ]
  },
  {
   "cell_type": "code",
   "execution_count": 22,
   "metadata": {},
   "outputs": [
    {
     "name": "stdout",
     "output_type": "stream",
     "text": [
      "ElasticNet regression \n",
      "mean_squared_error  =>   0.8266500141997827\n",
      "mean_absolute_error =>   0.8138387690978277\n",
      "r2_score =>   0.10594854473735005\n"
     ]
    },
    {
     "data": {
      "text/plain": [
       "ElasticNet(alpha=1.0, copy_X=True, fit_intercept=True, l1_ratio=0.5,\n",
       "           max_iter=1000, normalize=False, positive=False, precompute=False,\n",
       "           random_state=None, selection='cyclic', tol=0.0001, warm_start=False)"
      ]
     },
     "execution_count": 22,
     "metadata": {},
     "output_type": "execute_result"
    }
   ],
   "source": [
    "print(\"ElasticNet regression \")\n",
    "checkModelPerformane(ElasticNet())"
   ]
  },
  {
   "cell_type": "markdown",
   "metadata": {},
   "source": [
    "# Ridge regression :"
   ]
  },
  {
   "cell_type": "code",
   "execution_count": 23,
   "metadata": {},
   "outputs": [
    {
     "name": "stdout",
     "output_type": "stream",
     "text": [
      "Ridge regression \n",
      "mean_squared_error  =>   0.8223129017285985\n",
      "mean_absolute_error =>   0.8115437148971971\n",
      "r2_score =>   0.11530541768924574\n"
     ]
    },
    {
     "name": "stderr",
     "output_type": "stream",
     "text": [
      "C:\\Users\\SG\\Anaconda3\\lib\\site-packages\\sklearn\\linear_model\\ridge.py:147: LinAlgWarning: Ill-conditioned matrix (rcond=1.31828e-17): result may not be accurate.\n",
      "  overwrite_a=True).T\n"
     ]
    },
    {
     "data": {
      "text/plain": [
       "Ridge(alpha=1.0, copy_X=True, fit_intercept=True, max_iter=None,\n",
       "      normalize=False, random_state=None, solver='auto', tol=0.001)"
      ]
     },
     "execution_count": 23,
     "metadata": {},
     "output_type": "execute_result"
    }
   ],
   "source": [
    "print(\"Ridge regression \")\n",
    "checkModelPerformane(Ridge(alpha=1.0))"
   ]
  },
  {
   "cell_type": "markdown",
   "metadata": {},
   "source": [
    "# Random forests :"
   ]
  },
  {
   "cell_type": "code",
   "execution_count": 24,
   "metadata": {},
   "outputs": [
    {
     "name": "stderr",
     "output_type": "stream",
     "text": [
      "C:\\Users\\SG\\Anaconda3\\lib\\site-packages\\sklearn\\ensemble\\forest.py:245: FutureWarning: The default value of n_estimators will change from 10 in version 0.20 to 100 in 0.22.\n",
      "  \"10 in version 0.20 to 100 in 0.22.\", FutureWarning)\n"
     ]
    },
    {
     "name": "stdout",
     "output_type": "stream",
     "text": [
      "Random Forest\n",
      "mean_squared_error  =>   0.5534487160507352\n",
      "mean_absolute_error =>   0.6578070086870773\n",
      "r2_score =>   0.5992496338122253\n"
     ]
    },
    {
     "data": {
      "text/plain": [
       "RandomForestRegressor(bootstrap=True, criterion='mse', max_depth=None,\n",
       "                      max_features='auto', max_leaf_nodes=None,\n",
       "                      min_impurity_decrease=0.0, min_impurity_split=None,\n",
       "                      min_samples_leaf=1, min_samples_split=2,\n",
       "                      min_weight_fraction_leaf=0.0, n_estimators=10,\n",
       "                      n_jobs=None, oob_score=False, random_state=42, verbose=0,\n",
       "                      warm_start=False)"
      ]
     },
     "execution_count": 24,
     "metadata": {},
     "output_type": "execute_result"
    }
   ],
   "source": [
    "print(\"Random Forest\")\n",
    "rf = checkModelPerformane(RandomForestRegressor(random_state=42))\n",
    "rf"
   ]
  },
  {
   "cell_type": "code",
   "execution_count": 25,
   "metadata": {},
   "outputs": [
    {
     "name": "stdout",
     "output_type": "stream",
     "text": [
      "Parameters currently in use:\n",
      "\n",
      "{'bootstrap': True,\n",
      " 'criterion': 'mse',\n",
      " 'max_depth': None,\n",
      " 'max_features': 'auto',\n",
      " 'max_leaf_nodes': None,\n",
      " 'min_impurity_decrease': 0.0,\n",
      " 'min_impurity_split': None,\n",
      " 'min_samples_leaf': 1,\n",
      " 'min_samples_split': 2,\n",
      " 'min_weight_fraction_leaf': 0.0,\n",
      " 'n_estimators': 10,\n",
      " 'n_jobs': None,\n",
      " 'oob_score': False,\n",
      " 'random_state': 42,\n",
      " 'verbose': 0,\n",
      " 'warm_start': False}\n"
     ]
    }
   ],
   "source": [
    "from pprint import pprint# Look at parameters used by our current forest\n",
    "print('Parameters currently in use:\\n')\n",
    "pprint(rf.get_params())"
   ]
  },
  {
   "cell_type": "markdown",
   "metadata": {},
   "source": [
    "    n_estimators = number of trees in the foreset\n",
    "    max_features = max number of features considered for splitting a node\n",
    "    max_depth = max number of levels in each decision tree\n",
    "    min_samples_split = min number of data points placed in a node before the node is split\n",
    "    min_samples_leaf = min number of data points allowed in a leaf node\n",
    "    bootstrap = method for sampling data points (with or without replacement)\n",
    "\n"
   ]
  },
  {
   "cell_type": "code",
   "execution_count": null,
   "metadata": {},
   "outputs": [],
   "source": []
  },
  {
   "cell_type": "code",
   "execution_count": null,
   "metadata": {},
   "outputs": [],
   "source": []
  }
 ],
 "metadata": {
  "kernelspec": {
   "display_name": "Python 3",
   "language": "python",
   "name": "python3"
  },
  "language_info": {
   "codemirror_mode": {
    "name": "ipython",
    "version": 3
   },
   "file_extension": ".py",
   "mimetype": "text/x-python",
   "name": "python",
   "nbconvert_exporter": "python",
   "pygments_lexer": "ipython3",
   "version": "3.7.3"
  }
 },
 "nbformat": 4,
 "nbformat_minor": 2
}
